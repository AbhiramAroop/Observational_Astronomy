{
 "cells": [
  {
   "cell_type": "markdown",
   "id": "3f5adbbd",
   "metadata": {},
   "source": [
    "# APERTURE PHOTOMETRY OF CENTRE - Abhiram"
   ]
  },
  {
   "cell_type": "markdown",
   "id": "3673a9bd",
   "metadata": {},
   "source": [
    "## All required Imports"
   ]
  },
  {
   "cell_type": "markdown",
   "id": "f97feec4",
   "metadata": {},
   "source": [
    "### Let's start with R-Band"
   ]
  },
  {
   "cell_type": "code",
   "execution_count": 3,
   "id": "7b71af3d",
   "metadata": {},
   "outputs": [
    {
     "name": "stderr",
     "output_type": "stream",
     "text": [
      "C:\\Users\\abhir\\AppData\\Local\\Temp/ipykernel_39108/2729152076.py:12: DeprecationWarning: `photutils.centroid_com` is a deprecated alias for `photutils.centroids.centroid_com`. Instead, please use `from photutils.centroids import centroid_com` to silence this warning.\n",
      "  from photutils import centroid_com, centroid_1dg, centroid_2dg\n",
      "C:\\Users\\abhir\\AppData\\Local\\Temp/ipykernel_39108/2729152076.py:12: DeprecationWarning: `photutils.centroid_1dg` is a deprecated alias for `photutils.centroids.centroid_1dg`. Instead, please use `from photutils.centroids import centroid_1dg` to silence this warning.\n",
      "  from photutils import centroid_com, centroid_1dg, centroid_2dg\n",
      "C:\\Users\\abhir\\AppData\\Local\\Temp/ipykernel_39108/2729152076.py:12: DeprecationWarning: `photutils.centroid_2dg` is a deprecated alias for `photutils.centroids.centroid_2dg`. Instead, please use `from photutils.centroids import centroid_2dg` to silence this warning.\n",
      "  from photutils import centroid_com, centroid_1dg, centroid_2dg\n"
     ]
    }
   ],
   "source": [
    "import numpy as np\n",
    "import astropy\n",
    "import photutils\n",
    "import ccdproc\n",
    "from ccdproc import CCDData, combiner\n",
    "from astropy import units as u\n",
    "import astropy.io.fits as fits\n",
    "from astropy.visualization import SqrtStretch\n",
    "from astropy.visualization.mpl_normalize import ImageNormalize\n",
    "import matplotlib.pyplot as plt\n",
    "from matplotlib.colors import LogNorm\n",
    "from photutils import centroid_com, centroid_1dg, centroid_2dg\n",
    "from photutils import CircularAperture\n",
    "from photutils import aperture_photometry\n",
    "from photutils import Background2D\n",
    "from photutils import MedianBackground\n",
    "from photutils import DAOStarFinder\n",
    "from photutils import detect_sources, deblend_sources, source_properties\n",
    "from scipy.ndimage import shift\n",
    "import gc                               \n",
    "\n",
    "from astropy.coordinates import SkyCoord\n",
    "from astroquery.gaia import Gaia\n"
   ]
  },
  {
   "cell_type": "code",
   "execution_count": 4,
   "id": "47532d64",
   "metadata": {},
   "outputs": [
    {
     "name": "stdout",
     "output_type": "stream",
     "text": [
      "INFO: using the unit adu passed to the FITS reader instead of the unit adu in the FITS file. [astropy.nddata.ccddata]\n"
     ]
    },
    {
     "name": "stderr",
     "output_type": "stream",
     "text": [
      "WARNING: FITSFixedWarning: 'datfix' made the change 'Set MJD-OBS to 59665.441986 from DATE-OBS'. [astropy.wcs.wcs]\n",
      "WARNING: FITSFixedWarning: 'obsfix' made the change 'Set OBSGEO-X to -4130881.901 from OBSGEO-[LBH].\n",
      "Set OBSGEO-Y to  2896022.315 from OBSGEO-[LBH].\n",
      "Set OBSGEO-Z to -3889419.901 from OBSGEO-[LBH]'. [astropy.wcs.wcs]\n"
     ]
    },
    {
     "name": "stdout",
     "output_type": "stream",
     "text": [
      "Image stats (mean, median and standard deviation): -0.15485499799251556 -0.6407623291015625 19.123193740844727\n"
     ]
    }
   ],
   "source": [
    "scim=CCDData.read(\"NGC_1851_R_median.fits\", unit=\"adu\") #gets the image CCD data\n",
    "#finds mean median and standard deviation of the counts in the image\n",
    "med=np.median(scim.data)\n",
    "scim.data=scim.data-med\n",
    "mean, median, std = astropy.stats.sigma_clipped_stats(scim.data, sigma=3.0, maxiters=5)\n",
    "print('Image stats (mean, median and standard deviation):', mean,median,std)\n"
   ]
  },
  {
   "cell_type": "code",
   "execution_count": 5,
   "id": "bf3253ce",
   "metadata": {},
   "outputs": [
    {
     "name": "stdout",
     "output_type": "stream",
     "text": [
      "Source table length:\n",
      " 310\n",
      "First entry centroid y and x values :\n",
      "3.1075333974370665 65.26611632758353\n"
     ]
    },
    {
     "name": "stderr",
     "output_type": "stream",
     "text": [
      "WARNING: AstropyDeprecationWarning: The source_properties function is deprecated and may be removed in a future version.\n",
      "        Use `~photutils.segmentation.SourceCatalog` instead. [warnings]\n",
      "WARNING: AstropyDeprecationWarning: The SourceProperties class is deprecated and may be removed in a future version.\n",
      "        Use `~photutils.segmentation.SourceCatalog` instead. [photutils.segmentation.properties]\n",
      "WARNING: AstropyDeprecationWarning: The LegacySourceCatalog class is deprecated and may be removed in a future version.\n",
      "        Use `~photutils.segmentation.SourceCatalog` instead. [photutils.segmentation.properties]\n"
     ]
    }
   ],
   "source": [
    "#outfile=\"segimage.fits\" # Set the output file name\n",
    "segimage=detect_sources(scim.data, 2.00*std, 9, connectivity=4, mask=None)\n",
    "source_table=source_properties(scim.data, segimage, error=None, mask=None, background=None, filter_kernel=None, wcs=None, labels=None)\n",
    "print('Source table length:\\n', len(source_table))\n",
    "print('First entry centroid y and x values :') # The dreaded y-x\n",
    "print(source_table[0].centroid[0].value, source_table[0].centroid[1].value)"
   ]
  },
  {
   "cell_type": "code",
   "execution_count": 6,
   "id": "2356abfd",
   "metadata": {},
   "outputs": [
    {
     "name": "stdout",
     "output_type": "stream",
     "text": [
      "[(65.26611632758353, 3.1075333974370665), (1619.463528413904, 1.1170243108636084), (1629.7999668366256, 4.153575838244375), (1645.070495185167, 1.4559479636635846), (1504.949147176421, 4.193140130542071), (1635.969876293759, 2.641410884990731), (1612.730480455442, 3.5726296006671103), (1625.047625810064, 5.918017566425519), (1441.6641289348534, 5.441037257350498), (1615.0340528018392, 9.43404872588139)]\n",
      " id      xcenter            ycenter          aperture_sum   \n",
      "           pix                pix                           \n",
      "--- ------------------ ------------------ ------------------\n",
      "  1  65.26611632758353 3.1075333974370665               85.0\n",
      "  2  1619.463528413904 1.1170243108636084  763.2667080172358\n",
      "  3 1629.7999668366256  4.153575838244375 1193.1691800563124\n",
      "  4  1645.070495185167 1.4559479636635846 1101.6882006923734\n",
      "  5  1504.949147176421  4.193140130542071               60.0\n",
      "  6  1635.969876293759  2.641410884990731 1133.3121008855924\n",
      "  7  1612.730480455442 3.5726296006671103  625.3429730432107\n",
      "  8  1625.047625810064  5.918017566425519  902.9653845578248\n",
      "  9 1441.6641289348534  5.441037257350498               90.0\n",
      " 10 1615.0340528018392   9.43404872588139  637.4865353850546\n",
      "...                ...                ...                ...\n",
      "301  532.4619114261704  1061.646739260203             6622.0\n",
      "302 316.27609168827166 1081.7885639532203            43488.0\n",
      "303  749.0287326685326    1078.8135053407             9999.0\n",
      "304 1057.6547553798453  1143.595313193985            19152.0\n",
      "305 192.16928565444894 1150.5968481973944            99125.0\n",
      "306  1398.278658584655 1150.1857752864096            10404.0\n",
      "307 1471.3798293858015 1194.7888452556317            43594.0\n",
      "308 429.06987193679146  1205.990367209887            19096.0\n",
      "309  1655.706490060328 1212.1961835776742             7738.0\n",
      "310 1659.1726311208213 1228.8060418167806  7729.277530060851\n",
      "Length = 310 rows\n"
     ]
    }
   ],
   "source": [
    "positions=[]\n",
    "for obj in source_table:\n",
    "    positions.append((obj.centroid[1].value, obj.centroid[0].value))\n",
    "print(positions[0:10]) # Print example values from the positions list.\n",
    "#get the aperture photometry\n",
    "apertures = CircularAperture(positions,r=20.0)\n",
    "phot_table = aperture_photometry(segimage, apertures)\n",
    "print(phot_table) #print the table of values"
   ]
  },
  {
   "cell_type": "markdown",
   "id": "db304bce",
   "metadata": {},
   "source": [
    "### Filter out values to find the centre point in the gobular cluster.\n",
    "### When comparing with ds9, we found centre point to be at (593,485)\n",
    "### We used a circular aperture with a high radius from the centre, as our cluster was fairly circular in shape."
   ]
  },
  {
   "cell_type": "code",
   "execution_count": 7,
   "id": "79330a67",
   "metadata": {},
   "outputs": [
    {
     "name": "stdout",
     "output_type": "stream",
     "text": [
      "[(593.0326968039201, 485.28742686000066), (619.4959812325171, 373.0618190509543), (529.1069442304283, 374.10235069140737), (677.0911832271095, 381.30545588412406), (689.3454099197778, 382.8671055203079), (622.4702870228356, 380.63893507744757), (708.3853288630966, 380.31884240651357), (597.6599363965024, 385.3660349193457), (591.588631186349, 385.1440886517325), (608.3464941657069, 390.916462817393), (669.2843514325363, 395.41534729254556), (474.3525534581793, 404.1421222609255), (701.826717274485, 411.89229357710786), (481.83827639495394, 412.27492241361807), (485.09940880039903, 416.92317512968623), (725.2213446795703, 420.3583601763231), (485.0052574992566, 436.75054339063524), (706.908278444544, 434.81924854003137), (467.6654130589967, 442.08550920729357), (712.4446294197672, 443.15582964374534), (720.7661382232023, 459.2836341046418), (487.05920113787465, 477.46485783649285), (471.22206130171173, 490.2719385310334), (721.6120646252303, 497.790507752179), (717.4507285728191, 509.0614162095292), (458.78654159384536, 513.9264729105289), (475.3640358117943, 537.2145667377835), (496.26480402529495, 548.6534901797131), (722.1919319388314, 554.248468702722), (471.69237689244693, 565.9796182655588), (487.1261354573925, 575.565553651105), (663.6051180612882, 575.2329327151459), (452.99596853042635, 581.3765887522671), (663.322603562642, 581.7195441949422), (675.5808593759843, 584.3412718540011), (515.7352231164214, 594.5729839385749), (697.0195416877502, 583.8444087868178), (723.941215365093, 587.5766802864205), (467.52573565517304, 598.0217127994938), (697.815843948498, 597.3686502630363), (717.5697245138069, 598.0067245054682), (666.9850591926473, 604.2301626512998), (452.3138024125422, 606.5931601369238), (631.3699145300097, 602.5407165180671), (681.008322212386, 607.5387303298551), (643.8538334278367, 612.5982621513207), (620.5891259610945, 616.715708433525)] 47\n",
      " id      xcenter           ycenter          aperture_sum   \n",
      "           pix               pix                           \n",
      "--- ----------------- ------------------ ------------------\n",
      "  1 593.0326968039201 485.28742686000066 14767077.147990452\n"
     ]
    }
   ],
   "source": [
    "centre_pos = []\n",
    "#Filtering our values that are definitely not in the centre of the cluster\n",
    "for i in positions:\n",
    "    if (i[0] > 450 and i[0] < 730) and (i[1] > 370 and i[1] < 620):\n",
    "        centre_pos.append(i)\n",
    "print(centre_pos,len(centre_pos))\n",
    "\n",
    "#Find aperture for centre\n",
    "#The radius was incremented until the increase the increase in aperture_sum was getting lower.\n",
    "#We settled with a radius of 130 pixels from the centre\n",
    "apertures = CircularAperture(centre_pos[0],r=130.0)\n",
    "phot_table = aperture_photometry(scim.data, apertures)\n",
    "print(phot_table) #print the table of values\n",
    "phot_table_R_centre = phot_table"
   ]
  },
  {
   "cell_type": "markdown",
   "id": "47bcf086",
   "metadata": {},
   "source": [
    "### Let's do the same thing for the shifted V band image"
   ]
  },
  {
   "cell_type": "code",
   "execution_count": 8,
   "id": "5ecf1430",
   "metadata": {},
   "outputs": [
    {
     "name": "stdout",
     "output_type": "stream",
     "text": [
      "INFO: using the unit adu passed to the FITS reader instead of the unit adu in the FITS file. [astropy.nddata.ccddata]\n"
     ]
    },
    {
     "name": "stderr",
     "output_type": "stream",
     "text": [
      "WARNING: FITSFixedWarning: 'datfix' made the change 'Set MJD-OBS to 59665.463030 from DATE-OBS'. [astropy.wcs.wcs]\n",
      "WARNING: FITSFixedWarning: 'obsfix' made the change 'Set OBSGEO-X to -4130881.901 from OBSGEO-[LBH].\n",
      "Set OBSGEO-Y to  2896022.315 from OBSGEO-[LBH].\n",
      "Set OBSGEO-Z to -3889419.901 from OBSGEO-[LBH]'. [astropy.wcs.wcs]\n"
     ]
    }
   ],
   "source": [
    "scim=CCDData.read(\"NGC_1851_V_median_latest.fits\", unit=\"adu\") #gets the image CCD data\n",
    "#finds mean median and standard deviation of the counts in the image"
   ]
  },
  {
   "cell_type": "code",
   "execution_count": 9,
   "id": "2c0f2a79",
   "metadata": {},
   "outputs": [
    {
     "name": "stdout",
     "output_type": "stream",
     "text": [
      "[(65.26611632758353, 3.1075333974370665), (1619.463528413904, 1.1170243108636084), (1629.7999668366256, 4.153575838244375), (1645.070495185167, 1.4559479636635846), (1504.949147176421, 4.193140130542071), (1635.969876293759, 2.641410884990731), (1612.730480455442, 3.5726296006671103), (1625.047625810064, 5.918017566425519), (1441.6641289348534, 5.441037257350498), (1615.0340528018392, 9.43404872588139)]\n",
      "[(593.0326968039201, 485.28742686000066), (619.4959812325171, 373.0618190509543), (529.1069442304283, 374.10235069140737), (677.0911832271095, 381.30545588412406), (689.3454099197778, 382.8671055203079), (622.4702870228356, 380.63893507744757), (708.3853288630966, 380.31884240651357), (597.6599363965024, 385.3660349193457), (591.588631186349, 385.1440886517325), (608.3464941657069, 390.916462817393), (669.2843514325363, 395.41534729254556), (474.3525534581793, 404.1421222609255), (701.826717274485, 411.89229357710786), (481.83827639495394, 412.27492241361807), (485.09940880039903, 416.92317512968623), (725.2213446795703, 420.3583601763231), (485.0052574992566, 436.75054339063524), (706.908278444544, 434.81924854003137), (467.6654130589967, 442.08550920729357), (712.4446294197672, 443.15582964374534), (720.7661382232023, 459.2836341046418), (487.05920113787465, 477.46485783649285), (471.22206130171173, 490.2719385310334), (721.6120646252303, 497.790507752179), (717.4507285728191, 509.0614162095292), (458.78654159384536, 513.9264729105289), (475.3640358117943, 537.2145667377835), (496.26480402529495, 548.6534901797131), (722.1919319388314, 554.248468702722), (471.69237689244693, 565.9796182655588), (487.1261354573925, 575.565553651105), (663.6051180612882, 575.2329327151459), (452.99596853042635, 581.3765887522671), (663.322603562642, 581.7195441949422), (675.5808593759843, 584.3412718540011), (515.7352231164214, 594.5729839385749), (697.0195416877502, 583.8444087868178), (723.941215365093, 587.5766802864205), (467.52573565517304, 598.0217127994938), (697.815843948498, 597.3686502630363), (717.5697245138069, 598.0067245054682), (666.9850591926473, 604.2301626512998), (452.3138024125422, 606.5931601369238), (631.3699145300097, 602.5407165180671), (681.008322212386, 607.5387303298551), (643.8538334278367, 612.5982621513207), (620.5891259610945, 616.715708433525)] 47\n",
      " id      xcenter           ycenter          aperture_sum   \n",
      "           pix               pix                           \n",
      "--- ----------------- ------------------ ------------------\n",
      "  1 593.0326968039201 485.28742686000066 14262583.594952025\n"
     ]
    }
   ],
   "source": [
    "positions=[]\n",
    "for obj in source_table:\n",
    "    positions.append((obj.centroid[1].value, obj.centroid[0].value))\n",
    "print(positions[0:10]) # Print example values from the positions list.\n",
    "\n",
    "centre_pos = []\n",
    "#Filtering our values that are definitely not in the centre of the cluster\n",
    "for i in positions:\n",
    "    if (i[0] > 450 and i[0] < 730) and (i[1] > 370 and i[1] < 620):\n",
    "        centre_pos.append(i)\n",
    "print(centre_pos,len(centre_pos))\n",
    "\n",
    "apertures = CircularAperture(centre_pos[0], r=130.0)\n",
    "phot_table = aperture_photometry(scim.data, apertures)\n",
    "print(phot_table)\n",
    "phot_table_V_centre = phot_table"
   ]
  },
  {
   "cell_type": "markdown",
   "id": "05e72c33",
   "metadata": {},
   "source": [
    "### Now let's find the magnitudes and colour of this part"
   ]
  },
  {
   "cell_type": "code",
   "execution_count": 10,
   "id": "43c3f099",
   "metadata": {},
   "outputs": [
    {
     "name": "stdout",
     "output_type": "stream",
     "text": [
      "14262583.594952025 14767077.147990452\n",
      "7.062126362471496 6.107513561125105 -0.954612801346391\n"
     ]
    }
   ],
   "source": [
    "V_centre_value = phot_table_V_centre[0]['aperture_sum']\n",
    "R_centre_value = phot_table_R_centre[0]['aperture_sum']\n",
    "print(V_centre_value,R_centre_value)\n",
    "\n",
    "#For R-band\n",
    "f1 = 72470 # from catalogue\n",
    "f2 = R_centre_value\n",
    "m1 = 12.834967068627794 # from astrometry\n",
    "R_mag = -2.5 * np.log10(f2/f1) + m1\n",
    "\n",
    "#for V-band\n",
    "f1 = 14693 # from catalogue\n",
    "f2 = V_centre_value\n",
    "m1 = 13.575232871866096 # from astrometry\n",
    "V_mag = -2.5 * np.log10(f2/f1) + m1\n",
    "\n",
    "print(R_mag,V_mag,V_mag-R_mag)\n"
   ]
  },
  {
   "cell_type": "code",
   "execution_count": null,
   "id": "15de265f",
   "metadata": {},
   "outputs": [],
   "source": []
  }
 ],
 "metadata": {
  "kernelspec": {
   "display_name": "Python 3 (ipykernel)",
   "language": "python",
   "name": "python3"
  },
  "language_info": {
   "codemirror_mode": {
    "name": "ipython",
    "version": 3
   },
   "file_extension": ".py",
   "mimetype": "text/x-python",
   "name": "python",
   "nbconvert_exporter": "python",
   "pygments_lexer": "ipython3",
   "version": "3.9.7"
  }
 },
 "nbformat": 4,
 "nbformat_minor": 5
}
