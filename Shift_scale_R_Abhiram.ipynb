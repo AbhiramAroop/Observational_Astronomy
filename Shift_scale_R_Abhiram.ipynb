{
 "cells": [
  {
   "cell_type": "markdown",
   "id": "daecd06f",
   "metadata": {},
   "source": [
    "# Shift, Scale and Combine for R band - Abhiram"
   ]
  },
  {
   "cell_type": "code",
   "execution_count": 150,
   "id": "993917c0",
   "metadata": {},
   "outputs": [
    {
     "name": "stderr",
     "output_type": "stream",
     "text": [
      "C:\\Users\\abhir\\AppData\\Local\\Temp/ipykernel_10972/1625610432.py:10: DeprecationWarning: `photutils.centroid_com` is a deprecated alias for `photutils.centroids.centroid_com`. Instead, please use `from photutils.centroids import centroid_com` to silence this warning.\n",
      "  from photutils import centroid_com, centroid_1dg, centroid_2dg\n",
      "C:\\Users\\abhir\\AppData\\Local\\Temp/ipykernel_10972/1625610432.py:10: DeprecationWarning: `photutils.centroid_1dg` is a deprecated alias for `photutils.centroids.centroid_1dg`. Instead, please use `from photutils.centroids import centroid_1dg` to silence this warning.\n",
      "  from photutils import centroid_com, centroid_1dg, centroid_2dg\n",
      "C:\\Users\\abhir\\AppData\\Local\\Temp/ipykernel_10972/1625610432.py:10: DeprecationWarning: `photutils.centroid_2dg` is a deprecated alias for `photutils.centroids.centroid_2dg`. Instead, please use `from photutils.centroids import centroid_2dg` to silence this warning.\n",
      "  from photutils import centroid_com, centroid_1dg, centroid_2dg\n"
     ]
    }
   ],
   "source": [
    "# Import various libraries and some specific functions. Note the additions relative to the previous lab.\n",
    "import numpy as np\n",
    "import astropy\n",
    "import ccdproc\n",
    "from ccdproc import CCDData, Combiner\n",
    "from astropy import units as u\n",
    "from astropy.visualization import SqrtStretch\n",
    "import matplotlib.pyplot as plt\n",
    "from matplotlib.colors import LogNorm\n",
    "from photutils import centroid_com, centroid_1dg, centroid_2dg\n",
    "from photutils import CircularAperture\n",
    "from photutils import aperture_photometry\n",
    "from photutils import Background2D\n",
    "from photutils import MedianBackground\n",
    "from scipy.ndimage import shift\n",
    "import gc\n",
    "gc.enable()\n"
   ]
  },
  {
   "cell_type": "code",
   "execution_count": 125,
   "id": "b44ac111",
   "metadata": {},
   "outputs": [
    {
     "name": "stderr",
     "output_type": "stream",
     "text": [
      "INFO:astropy:using the unit adu passed to the FITS reader instead of the unit adu in the FITS file.\n",
      "WARNING: FITSFixedWarning: 'datfix' made the change 'Set MJD-OBS to 59665.441986 from DATE-OBS'. [astropy.wcs.wcs]\n",
      "WARNING:astropy:FITSFixedWarning: 'datfix' made the change 'Set MJD-OBS to 59665.441986 from DATE-OBS'.\n",
      "WARNING: FITSFixedWarning: 'obsfix' made the change 'Set OBSGEO-X to -4130881.901 from OBSGEO-[LBH].\n",
      "Set OBSGEO-Y to  2896022.315 from OBSGEO-[LBH].\n",
      "Set OBSGEO-Z to -3889419.901 from OBSGEO-[LBH]'. [astropy.wcs.wcs]\n",
      "WARNING:astropy:FITSFixedWarning: 'obsfix' made the change 'Set OBSGEO-X to -4130881.901 from OBSGEO-[LBH].\n",
      "Set OBSGEO-Y to  2896022.315 from OBSGEO-[LBH].\n",
      "Set OBSGEO-Z to -3889419.901 from OBSGEO-[LBH]'.\n",
      "INFO:astropy:using the unit adu passed to the FITS reader instead of the unit adu in the FITS file.\n",
      "WARNING: FITSFixedWarning: 'datfix' made the change 'Set MJD-OBS to 59665.444115 from DATE-OBS'. [astropy.wcs.wcs]\n",
      "WARNING:astropy:FITSFixedWarning: 'datfix' made the change 'Set MJD-OBS to 59665.444115 from DATE-OBS'.\n",
      "INFO:astropy:using the unit adu passed to the FITS reader instead of the unit adu in the FITS file.\n",
      "WARNING: FITSFixedWarning: 'datfix' made the change 'Set MJD-OBS to 59665.444824 from DATE-OBS'. [astropy.wcs.wcs]\n",
      "WARNING:astropy:FITSFixedWarning: 'datfix' made the change 'Set MJD-OBS to 59665.444824 from DATE-OBS'.\n",
      "INFO:astropy:using the unit adu passed to the FITS reader instead of the unit adu in the FITS file.\n",
      "WARNING: FITSFixedWarning: 'datfix' made the change 'Set MJD-OBS to 59665.445535 from DATE-OBS'. [astropy.wcs.wcs]\n",
      "WARNING:astropy:FITSFixedWarning: 'datfix' made the change 'Set MJD-OBS to 59665.445535 from DATE-OBS'.\n",
      "INFO:astropy:using the unit adu passed to the FITS reader instead of the unit adu in the FITS file.\n",
      "WARNING: FITSFixedWarning: 'datfix' made the change 'Set MJD-OBS to 59665.446953 from DATE-OBS'. [astropy.wcs.wcs]\n",
      "WARNING:astropy:FITSFixedWarning: 'datfix' made the change 'Set MJD-OBS to 59665.446953 from DATE-OBS'.\n",
      "INFO:astropy:using the unit adu passed to the FITS reader instead of the unit adu in the FITS file.\n",
      "WARNING: FITSFixedWarning: 'datfix' made the change 'Set MJD-OBS to 59665.467193 from DATE-OBS'. [astropy.wcs.wcs]\n",
      "WARNING:astropy:FITSFixedWarning: 'datfix' made the change 'Set MJD-OBS to 59665.467193 from DATE-OBS'.\n",
      "INFO:astropy:using the unit adu passed to the FITS reader instead of the unit adu in the FITS file.\n",
      "WARNING: FITSFixedWarning: 'datfix' made the change 'Set MJD-OBS to 59665.468613 from DATE-OBS'. [astropy.wcs.wcs]\n",
      "WARNING:astropy:FITSFixedWarning: 'datfix' made the change 'Set MJD-OBS to 59665.468613 from DATE-OBS'.\n",
      "INFO:astropy:using the unit adu passed to the FITS reader instead of the unit adu in the FITS file.\n"
     ]
    },
    {
     "name": "stdout",
     "output_type": "stream",
     "text": [
      "INFO: using the unit adu passed to the FITS reader instead of the unit adu in the FITS file. [astropy.nddata.ccddata]\n",
      "INFO: using the unit adu passed to the FITS reader instead of the unit adu in the FITS file. [astropy.nddata.ccddata]\n",
      "INFO: using the unit adu passed to the FITS reader instead of the unit adu in the FITS file. [astropy.nddata.ccddata]\n",
      "INFO: using the unit adu passed to the FITS reader instead of the unit adu in the FITS file. [astropy.nddata.ccddata]\n",
      "INFO: using the unit adu passed to the FITS reader instead of the unit adu in the FITS file. [astropy.nddata.ccddata]\n",
      "INFO: using the unit adu passed to the FITS reader instead of the unit adu in the FITS file. [astropy.nddata.ccddata]\n",
      "INFO: using the unit adu passed to the FITS reader instead of the unit adu in the FITS file. [astropy.nddata.ccddata]\n",
      "INFO: using the unit adu passed to the FITS reader instead of the unit adu in the FITS file. [astropy.nddata.ccddata]\n"
     ]
    },
    {
     "name": "stderr",
     "output_type": "stream",
     "text": [
      "WARNING: FITSFixedWarning: 'datfix' made the change 'Set MJD-OBS to 59665.469322 from DATE-OBS'. [astropy.wcs.wcs]\n",
      "WARNING:astropy:FITSFixedWarning: 'datfix' made the change 'Set MJD-OBS to 59665.469322 from DATE-OBS'.\n",
      "INFO:astropy:using the unit adu passed to the FITS reader instead of the unit adu in the FITS file.\n",
      "WARNING: FITSFixedWarning: 'datfix' made the change 'Set MJD-OBS to 59665.470032 from DATE-OBS'. [astropy.wcs.wcs]\n",
      "WARNING:astropy:FITSFixedWarning: 'datfix' made the change 'Set MJD-OBS to 59665.470032 from DATE-OBS'.\n",
      "INFO:astropy:using the unit adu passed to the FITS reader instead of the unit adu in the FITS file.\n",
      "WARNING: FITSFixedWarning: 'datfix' made the change 'Set MJD-OBS to 59665.471450 from DATE-OBS'. [astropy.wcs.wcs]\n",
      "WARNING:astropy:FITSFixedWarning: 'datfix' made the change 'Set MJD-OBS to 59665.471450 from DATE-OBS'.\n",
      "INFO:astropy:using the unit adu passed to the FITS reader instead of the unit adu in the FITS file.\n",
      "WARNING: FITSFixedWarning: 'datfix' made the change 'Set MJD-OBS to 59665.472160 from DATE-OBS'. [astropy.wcs.wcs]\n",
      "WARNING:astropy:FITSFixedWarning: 'datfix' made the change 'Set MJD-OBS to 59665.472160 from DATE-OBS'.\n",
      "INFO:astropy:using the unit adu passed to the FITS reader instead of the unit adu in the FITS file.\n",
      "WARNING: FITSFixedWarning: 'datfix' made the change 'Set MJD-OBS to 59665.487932 from DATE-OBS'. [astropy.wcs.wcs]\n",
      "WARNING:astropy:FITSFixedWarning: 'datfix' made the change 'Set MJD-OBS to 59665.487932 from DATE-OBS'.\n",
      "INFO:astropy:using the unit adu passed to the FITS reader instead of the unit adu in the FITS file.\n",
      "WARNING: FITSFixedWarning: 'datfix' made the change 'Set MJD-OBS to 59665.488641 from DATE-OBS'. [astropy.wcs.wcs]\n",
      "WARNING:astropy:FITSFixedWarning: 'datfix' made the change 'Set MJD-OBS to 59665.488641 from DATE-OBS'.\n",
      "INFO:astropy:using the unit adu passed to the FITS reader instead of the unit adu in the FITS file.\n",
      "WARNING: FITSFixedWarning: 'datfix' made the change 'Set MJD-OBS to 59665.489350 from DATE-OBS'. [astropy.wcs.wcs]\n",
      "WARNING:astropy:FITSFixedWarning: 'datfix' made the change 'Set MJD-OBS to 59665.489350 from DATE-OBS'.\n",
      "INFO:astropy:using the unit adu passed to the FITS reader instead of the unit adu in the FITS file.\n",
      "WARNING: FITSFixedWarning: 'datfix' made the change 'Set MJD-OBS to 59665.490060 from DATE-OBS'. [astropy.wcs.wcs]\n",
      "WARNING:astropy:FITSFixedWarning: 'datfix' made the change 'Set MJD-OBS to 59665.490060 from DATE-OBS'.\n",
      "INFO:astropy:using the unit adu passed to the FITS reader instead of the unit adu in the FITS file.\n"
     ]
    },
    {
     "name": "stdout",
     "output_type": "stream",
     "text": [
      "INFO: using the unit adu passed to the FITS reader instead of the unit adu in the FITS file. [astropy.nddata.ccddata]\n",
      "INFO: using the unit adu passed to the FITS reader instead of the unit adu in the FITS file. [astropy.nddata.ccddata]\n",
      "INFO: using the unit adu passed to the FITS reader instead of the unit adu in the FITS file. [astropy.nddata.ccddata]\n",
      "INFO: using the unit adu passed to the FITS reader instead of the unit adu in the FITS file. [astropy.nddata.ccddata]\n",
      "INFO: using the unit adu passed to the FITS reader instead of the unit adu in the FITS file. [astropy.nddata.ccddata]\n",
      "INFO: using the unit adu passed to the FITS reader instead of the unit adu in the FITS file. [astropy.nddata.ccddata]\n",
      "INFO: using the unit adu passed to the FITS reader instead of the unit adu in the FITS file. [astropy.nddata.ccddata]\n",
      "INFO: using the unit adu passed to the FITS reader instead of the unit adu in the FITS file. [astropy.nddata.ccddata]\n"
     ]
    },
    {
     "name": "stderr",
     "output_type": "stream",
     "text": [
      "WARNING: FITSFixedWarning: 'datfix' made the change 'Set MJD-OBS to 59665.490769 from DATE-OBS'. [astropy.wcs.wcs]\n",
      "WARNING:astropy:FITSFixedWarning: 'datfix' made the change 'Set MJD-OBS to 59665.490769 from DATE-OBS'.\n",
      "INFO:astropy:using the unit adu passed to the FITS reader instead of the unit adu in the FITS file.\n",
      "WARNING: FITSFixedWarning: 'datfix' made the change 'Set MJD-OBS to 59665.491479 from DATE-OBS'. [astropy.wcs.wcs]\n",
      "WARNING:astropy:FITSFixedWarning: 'datfix' made the change 'Set MJD-OBS to 59665.491479 from DATE-OBS'.\n",
      "INFO:astropy:using the unit adu passed to the FITS reader instead of the unit adu in the FITS file.\n",
      "WARNING: FITSFixedWarning: 'datfix' made the change 'Set MJD-OBS to 59665.492188 from DATE-OBS'. [astropy.wcs.wcs]\n",
      "WARNING:astropy:FITSFixedWarning: 'datfix' made the change 'Set MJD-OBS to 59665.492188 from DATE-OBS'.\n",
      "INFO:astropy:using the unit adu passed to the FITS reader instead of the unit adu in the FITS file.\n",
      "WARNING: FITSFixedWarning: 'datfix' made the change 'Set MJD-OBS to 59665.492898 from DATE-OBS'. [astropy.wcs.wcs]\n",
      "WARNING:astropy:FITSFixedWarning: 'datfix' made the change 'Set MJD-OBS to 59665.492898 from DATE-OBS'.\n",
      "INFO:astropy:using the unit adu passed to the FITS reader instead of the unit adu in the FITS file.\n",
      "WARNING: FITSFixedWarning: 'datfix' made the change 'Set MJD-OBS to 59665.493607 from DATE-OBS'. [astropy.wcs.wcs]\n",
      "WARNING:astropy:FITSFixedWarning: 'datfix' made the change 'Set MJD-OBS to 59665.493607 from DATE-OBS'.\n",
      "INFO:astropy:using the unit adu passed to the FITS reader instead of the unit adu in the FITS file.\n",
      "WARNING: FITSFixedWarning: 'datfix' made the change 'Set MJD-OBS to 59665.494316 from DATE-OBS'. [astropy.wcs.wcs]\n",
      "WARNING:astropy:FITSFixedWarning: 'datfix' made the change 'Set MJD-OBS to 59665.494316 from DATE-OBS'.\n"
     ]
    },
    {
     "name": "stdout",
     "output_type": "stream",
     "text": [
      "INFO: using the unit adu passed to the FITS reader instead of the unit adu in the FITS file. [astropy.nddata.ccddata]\n",
      "INFO: using the unit adu passed to the FITS reader instead of the unit adu in the FITS file. [astropy.nddata.ccddata]\n",
      "INFO: using the unit adu passed to the FITS reader instead of the unit adu in the FITS file. [astropy.nddata.ccddata]\n",
      "INFO: using the unit adu passed to the FITS reader instead of the unit adu in the FITS file. [astropy.nddata.ccddata]\n",
      "INFO: using the unit adu passed to the FITS reader instead of the unit adu in the FITS file. [astropy.nddata.ccddata]\n",
      "proc_NGC_1851_R_00003541.fits\n",
      "proc_NGC_1851_R_00003544.fits\n",
      "proc_NGC_1851_R_00003545.fits\n",
      "proc_NGC_1851_R_00003546.fits\n",
      "proc_NGC_1851_R_00003548.fits\n",
      "proc_NGC_1851_R_00003575.fits\n",
      "proc_NGC_1851_R_00003577.fits\n",
      "proc_NGC_1851_R_00003578.fits\n",
      "proc_NGC_1851_R_00003579.fits\n",
      "proc_NGC_1851_R_00003581.fits\n",
      "proc_NGC_1851_R_00003582.fits\n",
      "proc_NGC_1851_R_00003603.fits\n",
      "proc_NGC_1851_R_00003604.fits\n",
      "proc_NGC_1851_R_00003605.fits\n",
      "proc_NGC_1851_R_00003606.fits\n",
      "proc_NGC_1851_R_00003607.fits\n",
      "proc_NGC_1851_R_00003608.fits\n",
      "proc_NGC_1851_R_00003609.fits\n",
      "proc_NGC_1851_R_00003610.fits\n",
      "proc_NGC_1851_R_00003611.fits\n",
      "proc_NGC_1851_R_00003612.fits\n"
     ]
    }
   ],
   "source": [
    "images = ccdproc.ImageFileCollection(\".\",glob_include='proc_NGC*_R*')\n",
    "#extract all the images of V-band\n",
    "scim = [CCDData.read(fn, unit = \"adu\") for fn in images.files_filtered(PICTTYPE = 1)]\n",
    "#Check if we got the correct files by printing them\n",
    "for fn in images.files_filtered(PICTTYPE = 1):\n",
    "    print(fn)\n"
   ]
  },
  {
   "cell_type": "code",
   "execution_count": 126,
   "id": "9bceb498",
   "metadata": {},
   "outputs": [
    {
     "name": "stdout",
     "output_type": "stream",
     "text": [
      "['sproc_NGC_1851_R_00003541.fits', 'sproc_NGC_1851_R_00003544.fits', 'sproc_NGC_1851_R_00003545.fits', 'sproc_NGC_1851_R_00003546.fits', 'sproc_NGC_1851_R_00003548.fits', 'sproc_NGC_1851_R_00003575.fits', 'sproc_NGC_1851_R_00003577.fits', 'sproc_NGC_1851_R_00003578.fits', 'sproc_NGC_1851_R_00003579.fits', 'sproc_NGC_1851_R_00003581.fits', 'sproc_NGC_1851_R_00003582.fits', 'sproc_NGC_1851_R_00003603.fits', 'sproc_NGC_1851_R_00003604.fits', 'sproc_NGC_1851_R_00003605.fits', 'sproc_NGC_1851_R_00003606.fits', 'sproc_NGC_1851_R_00003607.fits', 'sproc_NGC_1851_R_00003608.fits', 'sproc_NGC_1851_R_00003609.fits', 'sproc_NGC_1851_R_00003610.fits', 'sproc_NGC_1851_R_00003611.fits', 'sproc_NGC_1851_R_00003612.fits']\n"
     ]
    }
   ],
   "source": [
    "newname=[] #Defines a list\n",
    "#Loops through all the images we have\n",
    "for fn in images.files_filtered(PICTTYPE=1):\n",
    "    newname.extend([\"s\"+fn]) #For each image name add an 's' and old corresponding name\n",
    "print(newname) #prints the new names of images"
   ]
  },
  {
   "cell_type": "code",
   "execution_count": 97,
   "id": "fc3280e1",
   "metadata": {},
   "outputs": [
    {
     "name": "stdout",
     "output_type": "stream",
     "text": [
      "347.05663206309754 632.684582445631\n"
     ]
    }
   ],
   "source": [
    "temp=scim[0].copy() #make a copy of first image\n",
    "temp=temp-np.ma.median(temp) #subtract the background using the median\n",
    "# Determine the centroid - note the python convention for x and y can be flipped!\n",
    "#get the position of the star using centroid_2dg\n",
    "#locates based on a given x and y range to find the position of the bright star\n",
    "#this outputs values in the range that is max-min(for example x1 will range between 0-100, as 1400-1300)\n",
    "x1, y1 = centroid_2dg(temp[620:640,350:360])\n",
    "#after finding the position, prints its position, but we need to add the minimum position,as\n",
    "# the previous function subtracts its min value from it results\n",
    "print(x1+350, y1+620)\n"
   ]
  },
  {
   "cell_type": "code",
   "execution_count": 127,
   "id": "14ccaa21",
   "metadata": {},
   "outputs": [
    {
     "data": {
      "text/plain": [
       "'sproc_NGC_1851_R_00003548.fits'"
      ]
     },
     "execution_count": 127,
     "metadata": {},
     "output_type": "execute_result"
    }
   ],
   "source": [
    "#scim.pop(4)\n",
    "#newname.pop(4)"
   ]
  },
  {
   "cell_type": "markdown",
   "id": "c3a5fc05",
   "metadata": {},
   "source": [
    "### Different method for shifting as stars at very different positions"
   ]
  },
  {
   "cell_type": "code",
   "execution_count": 137,
   "id": "1203510f",
   "metadata": {},
   "outputs": [
    {
     "name": "stdout",
     "output_type": "stream",
     "text": [
      "356.98061094613973 633.2156197605897 sproc_NGC_1851_R_00003541.fits 0\n",
      "318.0949525091421 619.3376651438855 sproc_NGC_1851_R_00003544.fits 1\n",
      "322.2151395016096 615.3507888302414 sproc_NGC_1851_R_00003545.fits 2\n",
      "323.1569419006116 616.0925013630109 sproc_NGC_1851_R_00003546.fits 3\n",
      "655.0352032063826 658.9004421005656 sproc_NGC_1851_R_00003575.fits 4\n",
      "636.6463186635174 645.2780331424796 sproc_NGC_1851_R_00003577.fits 5\n",
      "643.0334285923752 647.3749737999988 sproc_NGC_1851_R_00003578.fits 6\n",
      "637.4037719590766 642.3691933514536 sproc_NGC_1851_R_00003579.fits 7\n",
      "628.0725532067901 635.4575657493933 sproc_NGC_1851_R_00003581.fits 8\n",
      "630.1656138534737 632.4384750253239 sproc_NGC_1851_R_00003582.fits 9\n",
      "591.5506946623885 566.496314582285 sproc_NGC_1851_R_00003603.fits 10\n",
      "593.2963086033144 566.0194709629802 sproc_NGC_1851_R_00003604.fits 11\n",
      "596.4930534000199 566.1234005467197 sproc_NGC_1851_R_00003605.fits 12\n",
      "591.9424342293474 564.9855071278783 sproc_NGC_1851_R_00003606.fits 13\n",
      "587.0301945530293 560.9516678261781 sproc_NGC_1851_R_00003607.fits 14\n",
      "591.271589766231 558.5812250203711 sproc_NGC_1851_R_00003608.fits 15\n",
      "593.584839095867 558.3175947878591 sproc_NGC_1851_R_00003609.fits 16\n",
      "588.0076072431465 554.8434495555406 sproc_NGC_1851_R_00003610.fits 17\n",
      "584.5960120441123 551.364034684428 sproc_NGC_1851_R_00003611.fits 18\n",
      "587.4859546818873 548.4413503800761 sproc_NGC_1851_R_00003612.fits 19\n",
      "\n",
      "\n",
      "\n",
      "\n",
      "[356.98061094613973, 318.0949525091421, 322.2151395016096, 323.1569419006116, 655.0352032063826, 636.6463186635174, 643.0334285923752, 637.4037719590766, 628.0725532067901, 630.1656138534737, 591.5506946623885, 593.2963086033144, 596.4930534000199, 591.9424342293474, 587.0301945530293, 591.271589766231, 593.584839095867, 588.0076072431465, 584.5960120441123, 587.4859546818873]\n",
      "[633.2156197605897, 619.3376651438855, 615.3507888302414, 616.0925013630109, 658.9004421005656, 645.2780331424796, 647.3749737999988, 642.3691933514536, 635.4575657493933, 632.4384750253239, 566.496314582285, 566.0194709629802, 566.1234005467197, 564.9855071278783, 560.9516678261781, 558.5812250203711, 558.3175947878591, 554.8434495555406, 551.364034684428, 548.4413503800761]\n",
      "\n",
      "\n",
      "\n",
      "\n",
      "[   0.           38.88565844   34.76547144   33.82366905 -298.05459226\n",
      " -279.66570772 -286.05281765 -280.42316101 -271.09194226 -273.18500291\n",
      " -234.57008372 -236.31569766 -239.51244245 -234.96182328 -230.04958361\n",
      " -234.29097882 -236.60422815 -231.0269963  -227.6154011  -230.50534374]\n",
      "[  0.          13.87795462  17.86483093  17.1231184  -25.68482234\n",
      " -12.06241338 -14.15935404  -9.15357359  -2.24194599   0.77714474\n",
      "  66.71930518  67.1961488   67.09221921  68.23011263  72.26395193\n",
      "  74.63439474  74.89802497  78.37217021  81.85158508  84.77426938]\n"
     ]
    }
   ],
   "source": [
    "xbox = 40               # comment\n",
    "ybox = 40               # comment\n",
    "shiftx=[]               # comment\n",
    "shifty=[]               # comment \n",
    "\n",
    "for idx, thisimage in enumerate(scim): \n",
    "\n",
    "    # In the first 3 images the star is near 2030, 1370\n",
    "    if idx<=3:            \n",
    "        xoffset = int(340-xbox/2)   # x edge of the box \n",
    "        yoffset = int(630-ybox/2)   # comment\n",
    "\n",
    "    # In the following images the star is near 1990, 1370\n",
    "    elif 4<=idx<=9:\n",
    "        xoffset = int(625-xbox/2)   # x edge of the box \n",
    "        yoffset = int(630-ybox/2)   # comment \n",
    "    elif 10<=idx:\n",
    "        xoffset = int(590-xbox/2)   # x edge of the box \n",
    "        yoffset = int(550-ybox/2)   # comment \n",
    "    \n",
    "    # If you had more images you could have more star positions\n",
    "   # elif idx>=13 and idx<=99:\n",
    "     #   xoffset = int(2345-xbox/2)   # x edge of the box \n",
    "      #  yoffset = int(1234-ybox/2)   # comment \n",
    "    \n",
    "    temp = thisimage.data-np.ma.median(thisimage.data)    # comment\n",
    "#    x1, y1 = centroid_2dg( temp[yoffset : yoffset + ybox, xoffset : xoffset + xbox]) # What is centroid 2dg\n",
    "    x1, y1 = centroid_com( temp[yoffset : yoffset + ybox, xoffset : xoffset + xbox]) # What is centroid com\n",
    "    print(x1 +xoffset, y1 + yoffset, newname[idx] , idx)\n",
    "    shiftx.append(x1 + xoffset)\n",
    "    shifty.append(y1 + yoffset )\n",
    "\n",
    "print('\\n\\n\\n') # What does this do?\n",
    "print(shiftx)   # What is this?\n",
    "print(shifty)   # What is this?\n",
    "\n",
    "print('\\n\\n\\n') # What does this do?\n",
    "print(shiftx[0]-shiftx) # What does this mean?\n",
    "print(shifty[0]-shifty) # What does this mean?"
   ]
  },
  {
   "cell_type": "code",
   "execution_count": 15,
   "id": "35fd0239",
   "metadata": {},
   "outputs": [
    {
     "name": "stdout",
     "output_type": "stream",
     "text": [
      "223.5137978003573 638.9430967138029\n"
     ]
    },
    {
     "name": "stderr",
     "output_type": "stream",
     "text": [
      "WARNING: The fit may be unsuccessful; check fit_info['message'] for more information. [astropy.modeling.fitting]\n",
      "WARNING:astropy:The fit may be unsuccessful; check fit_info['message'] for more information.\n"
     ]
    },
    {
     "name": "stdout",
     "output_type": "stream",
     "text": [
      "231.23649100641035 642.2487558173717\n"
     ]
    },
    {
     "name": "stderr",
     "output_type": "stream",
     "text": [
      "WARNING: The fit may be unsuccessful; check fit_info['message'] for more information. [astropy.modeling.fitting]\n",
      "WARNING:astropy:The fit may be unsuccessful; check fit_info['message'] for more information.\n"
     ]
    },
    {
     "name": "stdout",
     "output_type": "stream",
     "text": [
      "232.6573186024215 648.3832015802067\n"
     ]
    },
    {
     "name": "stderr",
     "output_type": "stream",
     "text": [
      "WARNING: The fit may be unsuccessful; check fit_info['message'] for more information. [astropy.modeling.fitting]\n",
      "WARNING:astropy:The fit may be unsuccessful; check fit_info['message'] for more information.\n"
     ]
    },
    {
     "name": "stdout",
     "output_type": "stream",
     "text": [
      "229.25387203202436 642.5325165649871\n",
      "[223.5137978003573, 231.23649100641035, 232.6573186024215, 229.25387203202436]\n",
      "[638.9430967138029, 642.2487558173717, 648.3832015802067, 642.5325165649871]\n",
      "[ 0.         -7.72269321 -9.1435208  -5.74007423]\n",
      "[ 0.         -3.3056591  -9.44010487 -3.58941985]\n"
     ]
    }
   ],
   "source": [
    "xoffset = 220 # x edge of the box\n",
    "yoffset = 630 # y edge of the box\n",
    "xbox = 20 # x size of the box\n",
    "ybox = 20 # y size of the box\n",
    "shiftx=[] # list of x shift amounts\n",
    "shifty=[] # list of y shift amounts\n",
    "for idx, thisimage in enumerate(scim):\n",
    "    temp= thisimage.copy() #make a copy of image first\n",
    "    temp= temp-np.ma.median(temp) #subtract the background using the median\n",
    "    #determining the centeroid like previous task\n",
    "    x1, y1 = centroid_2dg( temp[yoffset : yoffset + ybox, xoffset : xoffset + xbox])\n",
    "    #prints positions of the stars\n",
    "    print(x1 +xoffset, y1 + yoffset )\n",
    "    shiftx.append(x1 + xoffset) #add x-pos to shift x list\n",
    "    shifty.append(y1 + yoffset) #add y-pos to shift y list\n",
    "print(shiftx) # x pixel Positions of the same star in all images\n",
    "print(shifty) # y pixel Positions of the same star in all images\n",
    "#Negative = left/down, postive = right/up\n",
    "print(shiftx[0]-shiftx) # prints the x-pixel amount that the image needs to be shifted by when compared to first image\n",
    "print(shifty[0]-shifty) # print"
   ]
  },
  {
   "cell_type": "code",
   "execution_count": 138,
   "id": "9fdb3d69",
   "metadata": {},
   "outputs": [
    {
     "name": "stdout",
     "output_type": "stream",
     "text": [
      "[(0.0, 0.0), (39.0, 14.0), (35.0, 18.0), (34.0, 17.0), (-298.0, -26.0), (-280.0, -12.0), (-286.0, -14.0), (-280.0, -9.0), (-271.0, -2.0), (-273.0, 1.0), (-235.0, 67.0), (-236.0, 67.0), (-240.0, 67.0), (-235.0, 68.0), (-230.0, 72.0), (-234.0, 75.0), (-237.0, 75.0), (-231.0, 78.0), (-228.0, 82.0), (-231.0, 85.0)]\n"
     ]
    }
   ],
   "source": [
    "shifts=[] #define the list of shifts\n",
    "#iterate through all the shift positions then subtract them from first image\n",
    "#finally, set them as tuples of x and y shift values and put them into shifts list\n",
    "for i in range(len(shiftx)):\n",
    "    shifts.append(((np.rint(shiftx[0]-shiftx[i])),np.rint(shifty[0]-shifty[i])))\n",
    "print(shifts)"
   ]
  },
  {
   "cell_type": "markdown",
   "id": "6492d18d",
   "metadata": {},
   "source": [
    "xoffset = 1340 # x edge of the box\n",
    "yoffset = 730 # y edge of the box\n",
    "xbox = 100 # x size of the box\n",
    "ybox = 100 # y size of the box\n",
    "shiftx=[] # list of x shift amounts\n",
    "shifty=[] # list of y shift amounts\n",
    "# What is this code doing?\n",
    "# iterating through each image and shifting by the values obtained in the previous task.\n",
    "for idx, thisimage in enumerate(scim):\n",
    "    yxshifts=(shifts[idx][1], shifts[idx][0]) # Note the y-x convention being used hereand in the following command.\n",
    "    temp = shift(scim[idx], yxshifts, order=0, mode='constant', cval=-1000) #shifting the images\n",
    "    temp=temp-np.ma.median(temp) #subtracting the median\n",
    "    # What is this code doing?\n",
    "    #getting the new positions of the shifted images\n",
    "    x1, y1 = centroid_2dg(temp[yoffset:yoffset+ybox,xoffset:xoffset+xbox])\n",
    "    #printing new shifted values for the new images and the amounts they were shifted by\n",
    "    print(x1+xoffset, y1+yoffset, shifts[idx][0], shifts[idx][1])"
   ]
  },
  {
   "cell_type": "code",
   "execution_count": 9,
   "id": "89798a77",
   "metadata": {},
   "outputs": [],
   "source": [
    "      \n",
    "\n"
   ]
  },
  {
   "cell_type": "code",
   "execution_count": 139,
   "id": "51d2a3a3",
   "metadata": {},
   "outputs": [],
   "source": [
    "#GENERATE SHIFTS\n",
    "for idx, thisimage in enumerate(scim):\n",
    "    yxshifts=(shifts[idx][1], shifts[idx][0])\n",
    "    temp = CCDData(shift(scim[idx], yxshifts, order=0, mode='constant', cval=-1000)-np.ma.median(scim[idx]), unit=\"adu\")\n",
    "    temp.header = scim[idx].header\n",
    "    temp.write(newname[idx])"
   ]
  },
  {
   "cell_type": "code",
   "execution_count": 140,
   "id": "de6e2d3f",
   "metadata": {},
   "outputs": [
    {
     "name": "stderr",
     "output_type": "stream",
     "text": [
      "INFO:astropy:using the unit adu passed to the FITS reader instead of the unit adu in the FITS file.\n",
      "WARNING: FITSFixedWarning: 'datfix' made the change 'Set MJD-OBS to 59665.441986 from DATE-OBS'. [astropy.wcs.wcs]\n",
      "WARNING:astropy:FITSFixedWarning: 'datfix' made the change 'Set MJD-OBS to 59665.441986 from DATE-OBS'.\n",
      "WARNING: FITSFixedWarning: 'obsfix' made the change 'Set OBSGEO-X to -4130881.901 from OBSGEO-[LBH].\n",
      "Set OBSGEO-Y to  2896022.315 from OBSGEO-[LBH].\n",
      "Set OBSGEO-Z to -3889419.901 from OBSGEO-[LBH]'. [astropy.wcs.wcs]\n",
      "WARNING:astropy:FITSFixedWarning: 'obsfix' made the change 'Set OBSGEO-X to -4130881.901 from OBSGEO-[LBH].\n",
      "Set OBSGEO-Y to  2896022.315 from OBSGEO-[LBH].\n",
      "Set OBSGEO-Z to -3889419.901 from OBSGEO-[LBH]'.\n",
      "INFO:astropy:using the unit adu passed to the FITS reader instead of the unit adu in the FITS file.\n",
      "WARNING: FITSFixedWarning: 'datfix' made the change 'Set MJD-OBS to 59665.444115 from DATE-OBS'. [astropy.wcs.wcs]\n",
      "WARNING:astropy:FITSFixedWarning: 'datfix' made the change 'Set MJD-OBS to 59665.444115 from DATE-OBS'.\n",
      "INFO:astropy:using the unit adu passed to the FITS reader instead of the unit adu in the FITS file.\n",
      "WARNING: FITSFixedWarning: 'datfix' made the change 'Set MJD-OBS to 59665.444824 from DATE-OBS'. [astropy.wcs.wcs]\n",
      "WARNING:astropy:FITSFixedWarning: 'datfix' made the change 'Set MJD-OBS to 59665.444824 from DATE-OBS'.\n",
      "INFO:astropy:using the unit adu passed to the FITS reader instead of the unit adu in the FITS file.\n",
      "WARNING: FITSFixedWarning: 'datfix' made the change 'Set MJD-OBS to 59665.445535 from DATE-OBS'. [astropy.wcs.wcs]\n",
      "WARNING:astropy:FITSFixedWarning: 'datfix' made the change 'Set MJD-OBS to 59665.445535 from DATE-OBS'.\n",
      "INFO:astropy:using the unit adu passed to the FITS reader instead of the unit adu in the FITS file.\n",
      "WARNING: FITSFixedWarning: 'datfix' made the change 'Set MJD-OBS to 59665.467193 from DATE-OBS'. [astropy.wcs.wcs]\n",
      "WARNING:astropy:FITSFixedWarning: 'datfix' made the change 'Set MJD-OBS to 59665.467193 from DATE-OBS'.\n",
      "INFO:astropy:using the unit adu passed to the FITS reader instead of the unit adu in the FITS file.\n",
      "WARNING: FITSFixedWarning: 'datfix' made the change 'Set MJD-OBS to 59665.468613 from DATE-OBS'. [astropy.wcs.wcs]\n",
      "WARNING:astropy:FITSFixedWarning: 'datfix' made the change 'Set MJD-OBS to 59665.468613 from DATE-OBS'.\n",
      "INFO:astropy:using the unit adu passed to the FITS reader instead of the unit adu in the FITS file.\n",
      "WARNING: FITSFixedWarning: 'datfix' made the change 'Set MJD-OBS to 59665.469322 from DATE-OBS'. [astropy.wcs.wcs]\n",
      "WARNING:astropy:FITSFixedWarning: 'datfix' made the change 'Set MJD-OBS to 59665.469322 from DATE-OBS'.\n",
      "INFO:astropy:using the unit adu passed to the FITS reader instead of the unit adu in the FITS file.\n",
      "WARNING: FITSFixedWarning: 'datfix' made the change 'Set MJD-OBS to 59665.470032 from DATE-OBS'. [astropy.wcs.wcs]\n",
      "WARNING:astropy:FITSFixedWarning: 'datfix' made the change 'Set MJD-OBS to 59665.470032 from DATE-OBS'.\n",
      "INFO:astropy:using the unit adu passed to the FITS reader instead of the unit adu in the FITS file.\n",
      "WARNING: FITSFixedWarning: 'datfix' made the change 'Set MJD-OBS to 59665.471450 from DATE-OBS'. [astropy.wcs.wcs]\n",
      "WARNING:astropy:FITSFixedWarning: 'datfix' made the change 'Set MJD-OBS to 59665.471450 from DATE-OBS'.\n",
      "INFO:astropy:using the unit adu passed to the FITS reader instead of the unit adu in the FITS file.\n",
      "WARNING: FITSFixedWarning: 'datfix' made the change 'Set MJD-OBS to 59665.472160 from DATE-OBS'. [astropy.wcs.wcs]\n",
      "WARNING:astropy:FITSFixedWarning: 'datfix' made the change 'Set MJD-OBS to 59665.472160 from DATE-OBS'.\n",
      "INFO:astropy:using the unit adu passed to the FITS reader instead of the unit adu in the FITS file.\n"
     ]
    },
    {
     "name": "stdout",
     "output_type": "stream",
     "text": [
      "INFO: using the unit adu passed to the FITS reader instead of the unit adu in the FITS file. [astropy.nddata.ccddata]\n",
      "INFO: using the unit adu passed to the FITS reader instead of the unit adu in the FITS file. [astropy.nddata.ccddata]\n",
      "INFO: using the unit adu passed to the FITS reader instead of the unit adu in the FITS file. [astropy.nddata.ccddata]\n",
      "INFO: using the unit adu passed to the FITS reader instead of the unit adu in the FITS file. [astropy.nddata.ccddata]\n",
      "INFO: using the unit adu passed to the FITS reader instead of the unit adu in the FITS file. [astropy.nddata.ccddata]\n",
      "INFO: using the unit adu passed to the FITS reader instead of the unit adu in the FITS file. [astropy.nddata.ccddata]\n",
      "INFO: using the unit adu passed to the FITS reader instead of the unit adu in the FITS file. [astropy.nddata.ccddata]\n",
      "INFO: using the unit adu passed to the FITS reader instead of the unit adu in the FITS file. [astropy.nddata.ccddata]\n",
      "INFO: using the unit adu passed to the FITS reader instead of the unit adu in the FITS file. [astropy.nddata.ccddata]\n",
      "INFO: using the unit adu passed to the FITS reader instead of the unit adu in the FITS file. [astropy.nddata.ccddata]\n",
      "INFO: using the unit adu passed to the FITS reader instead of the unit adu in the FITS file. [astropy.nddata.ccddata]\n"
     ]
    },
    {
     "name": "stderr",
     "output_type": "stream",
     "text": [
      "WARNING: FITSFixedWarning: 'datfix' made the change 'Set MJD-OBS to 59665.487932 from DATE-OBS'. [astropy.wcs.wcs]\n",
      "WARNING:astropy:FITSFixedWarning: 'datfix' made the change 'Set MJD-OBS to 59665.487932 from DATE-OBS'.\n",
      "INFO:astropy:using the unit adu passed to the FITS reader instead of the unit adu in the FITS file.\n",
      "WARNING: FITSFixedWarning: 'datfix' made the change 'Set MJD-OBS to 59665.488641 from DATE-OBS'. [astropy.wcs.wcs]\n",
      "WARNING:astropy:FITSFixedWarning: 'datfix' made the change 'Set MJD-OBS to 59665.488641 from DATE-OBS'.\n",
      "INFO:astropy:using the unit adu passed to the FITS reader instead of the unit adu in the FITS file.\n",
      "WARNING: FITSFixedWarning: 'datfix' made the change 'Set MJD-OBS to 59665.489350 from DATE-OBS'. [astropy.wcs.wcs]\n",
      "WARNING:astropy:FITSFixedWarning: 'datfix' made the change 'Set MJD-OBS to 59665.489350 from DATE-OBS'.\n",
      "INFO:astropy:using the unit adu passed to the FITS reader instead of the unit adu in the FITS file.\n",
      "WARNING: FITSFixedWarning: 'datfix' made the change 'Set MJD-OBS to 59665.490060 from DATE-OBS'. [astropy.wcs.wcs]\n",
      "WARNING:astropy:FITSFixedWarning: 'datfix' made the change 'Set MJD-OBS to 59665.490060 from DATE-OBS'.\n",
      "INFO:astropy:using the unit adu passed to the FITS reader instead of the unit adu in the FITS file.\n",
      "WARNING: FITSFixedWarning: 'datfix' made the change 'Set MJD-OBS to 59665.490769 from DATE-OBS'. [astropy.wcs.wcs]\n",
      "WARNING:astropy:FITSFixedWarning: 'datfix' made the change 'Set MJD-OBS to 59665.490769 from DATE-OBS'.\n",
      "INFO:astropy:using the unit adu passed to the FITS reader instead of the unit adu in the FITS file.\n",
      "WARNING: FITSFixedWarning: 'datfix' made the change 'Set MJD-OBS to 59665.491479 from DATE-OBS'. [astropy.wcs.wcs]\n",
      "WARNING:astropy:FITSFixedWarning: 'datfix' made the change 'Set MJD-OBS to 59665.491479 from DATE-OBS'.\n",
      "INFO:astropy:using the unit adu passed to the FITS reader instead of the unit adu in the FITS file.\n",
      "WARNING: FITSFixedWarning: 'datfix' made the change 'Set MJD-OBS to 59665.492188 from DATE-OBS'. [astropy.wcs.wcs]\n",
      "WARNING:astropy:FITSFixedWarning: 'datfix' made the change 'Set MJD-OBS to 59665.492188 from DATE-OBS'.\n",
      "INFO:astropy:using the unit adu passed to the FITS reader instead of the unit adu in the FITS file.\n",
      "WARNING: FITSFixedWarning: 'datfix' made the change 'Set MJD-OBS to 59665.492898 from DATE-OBS'. [astropy.wcs.wcs]\n",
      "WARNING:astropy:FITSFixedWarning: 'datfix' made the change 'Set MJD-OBS to 59665.492898 from DATE-OBS'.\n",
      "INFO:astropy:using the unit adu passed to the FITS reader instead of the unit adu in the FITS file.\n",
      "WARNING: FITSFixedWarning: 'datfix' made the change 'Set MJD-OBS to 59665.493607 from DATE-OBS'. [astropy.wcs.wcs]\n",
      "WARNING:astropy:FITSFixedWarning: 'datfix' made the change 'Set MJD-OBS to 59665.493607 from DATE-OBS'.\n",
      "INFO:astropy:using the unit adu passed to the FITS reader instead of the unit adu in the FITS file.\n",
      "WARNING: FITSFixedWarning: 'datfix' made the change 'Set MJD-OBS to 59665.494316 from DATE-OBS'. [astropy.wcs.wcs]\n",
      "WARNING:astropy:FITSFixedWarning: 'datfix' made the change 'Set MJD-OBS to 59665.494316 from DATE-OBS'.\n"
     ]
    },
    {
     "name": "stdout",
     "output_type": "stream",
     "text": [
      "INFO: using the unit adu passed to the FITS reader instead of the unit adu in the FITS file. [astropy.nddata.ccddata]\n",
      "INFO: using the unit adu passed to the FITS reader instead of the unit adu in the FITS file. [astropy.nddata.ccddata]\n",
      "INFO: using the unit adu passed to the FITS reader instead of the unit adu in the FITS file. [astropy.nddata.ccddata]\n",
      "INFO: using the unit adu passed to the FITS reader instead of the unit adu in the FITS file. [astropy.nddata.ccddata]\n",
      "INFO: using the unit adu passed to the FITS reader instead of the unit adu in the FITS file. [astropy.nddata.ccddata]\n",
      "INFO: using the unit adu passed to the FITS reader instead of the unit adu in the FITS file. [astropy.nddata.ccddata]\n",
      "INFO: using the unit adu passed to the FITS reader instead of the unit adu in the FITS file. [astropy.nddata.ccddata]\n",
      "INFO: using the unit adu passed to the FITS reader instead of the unit adu in the FITS file. [astropy.nddata.ccddata]\n",
      "INFO: using the unit adu passed to the FITS reader instead of the unit adu in the FITS file. [astropy.nddata.ccddata]\n",
      "sproc_NGC_1851_R_00003541.fits\n",
      "sproc_NGC_1851_R_00003544.fits\n",
      "sproc_NGC_1851_R_00003545.fits\n",
      "sproc_NGC_1851_R_00003546.fits\n",
      "sproc_NGC_1851_R_00003575.fits\n",
      "sproc_NGC_1851_R_00003577.fits\n",
      "sproc_NGC_1851_R_00003578.fits\n",
      "sproc_NGC_1851_R_00003579.fits\n",
      "sproc_NGC_1851_R_00003581.fits\n",
      "sproc_NGC_1851_R_00003582.fits\n",
      "sproc_NGC_1851_R_00003603.fits\n",
      "sproc_NGC_1851_R_00003604.fits\n",
      "sproc_NGC_1851_R_00003605.fits\n",
      "sproc_NGC_1851_R_00003606.fits\n",
      "sproc_NGC_1851_R_00003607.fits\n",
      "sproc_NGC_1851_R_00003608.fits\n",
      "sproc_NGC_1851_R_00003609.fits\n",
      "sproc_NGC_1851_R_00003610.fits\n",
      "sproc_NGC_1851_R_00003611.fits\n",
      "sproc_NGC_1851_R_00003612.fits\n"
     ]
    }
   ],
   "source": [
    "images = ccdproc.ImageFileCollection(\".\",glob_include='sproc_NGC*R*')\n",
    "#extract all the shifted images\n",
    "scim = [CCDData.read(fn, unit = \"adu\") for fn in images.files_filtered(PICTTYPE = 1)]\n",
    "#Check if we got the correct files by printing them\n",
    "for fn in images.files_filtered(PICTTYPE = 1):\n",
    "    print(fn)\n"
   ]
  },
  {
   "cell_type": "code",
   "execution_count": 144,
   "id": "b731536e",
   "metadata": {},
   "outputs": [
    {
     "name": "stdout",
     "output_type": "stream",
     "text": [
      " id xcenter ycenter    aperture_sum   \n",
      "      pix     pix          adu        \n",
      "--- ------- ------- ------------------\n",
      "  1   226.0   637.0  90317.50869364257\n",
      "  2  1354.0   739.0 108429.72086122203\n",
      "  3  1086.0   667.0  76489.14230901567\n"
     ]
    }
   ],
   "source": [
    "positions = [(226,637),(1354,739), (1086,667)] #x-y notation\n",
    "apertures = CircularAperture(positions, r=20.0)\n",
    "phot_table = aperture_photometry(scim[0], apertures)\n",
    "print(phot_table)\n"
   ]
  },
  {
   "cell_type": "code",
   "execution_count": 145,
   "id": "2f40ac1e",
   "metadata": {},
   "outputs": [],
   "source": [
    "#positions.append((962,360)) #add x-y position\n",
    "positions.append((322,407)) #add x-y position\n",
    "apertures = CircularAperture(positions, r=20.0) #get circular aperture\n"
   ]
  },
  {
   "cell_type": "code",
   "execution_count": 143,
   "id": "c54ed5c5",
   "metadata": {},
   "outputs": [],
   "source": []
  },
  {
   "cell_type": "code",
   "execution_count": 146,
   "id": "66b77c60",
   "metadata": {
    "scrolled": false
   },
   "outputs": [
    {
     "name": "stdout",
     "output_type": "stream",
     "text": [
      "0  id xcenter ycenter    aperture_sum   \n",
      "      pix     pix          adu        \n",
      "--- ------- ------- ------------------\n",
      "  1   226.0   637.0  90317.50869364257\n",
      "  2  1354.0   739.0 108429.72086122203\n",
      "  3  1086.0   667.0  76489.14230901567\n",
      "  4   322.0   407.0 100278.06862122193\n",
      "1  id xcenter ycenter    aperture_sum   \n",
      "      pix     pix          adu        \n",
      "--- ------- ------- ------------------\n",
      "  1   226.0   637.0  89054.38822815768\n",
      "  2  1354.0   739.0 105741.71591909576\n",
      "  3  1086.0   667.0  79212.50789716034\n",
      "  4   322.0   407.0  103068.5954934503\n",
      "2  id xcenter ycenter    aperture_sum   \n",
      "      pix     pix          adu        \n",
      "--- ------- ------- ------------------\n",
      "  1   226.0   637.0  92300.87257915134\n",
      "  2  1354.0   739.0 107634.64839323696\n",
      "  3  1086.0   667.0  76089.30492296706\n",
      "  4   322.0   407.0  94442.82506553661\n",
      "3  id xcenter ycenter    aperture_sum   \n",
      "      pix     pix          adu        \n",
      "--- ------- ------- ------------------\n",
      "  1   226.0   637.0   92701.6787137003\n",
      "  2  1354.0   739.0 108495.60596688866\n",
      "  3  1086.0   667.0   81130.6975619464\n",
      "  4   322.0   407.0  95260.56290671747\n",
      "4  id xcenter ycenter    aperture_sum   \n",
      "      pix     pix          adu        \n",
      "--- ------- ------- ------------------\n",
      "  1   226.0   637.0  81090.51103276113\n",
      "  2  1354.0   739.0 -378072.4947249433\n",
      "  3  1086.0   667.0  49862.47864698762\n",
      "  4   322.0   407.0  79725.28157288051\n",
      "5  id xcenter ycenter    aperture_sum  \n",
      "      pix     pix          adu       \n",
      "--- ------- ------- -----------------\n",
      "  1   226.0   637.0 59799.07741280807\n",
      "  2  1354.0   739.0  80709.6640530192\n",
      "  3  1086.0   667.0 54451.70303401026\n",
      "  4   322.0   407.0  62066.3029518788\n",
      "6  id xcenter ycenter    aperture_sum  \n",
      "      pix     pix          adu       \n",
      "--- ------- ------- -----------------\n",
      "  1   226.0   637.0  67713.0012263635\n",
      "  2  1354.0   739.0 96984.47906221531\n",
      "  3  1086.0   667.0 61048.65184516362\n",
      "  4   322.0   407.0 76303.26242272505\n",
      "7  id xcenter ycenter    aperture_sum  \n",
      "      pix     pix          adu       \n",
      "--- ------- ------- -----------------\n",
      "  1   226.0   637.0 74652.31650758468\n",
      "  2  1354.0   739.0 90571.35801700827\n",
      "  3  1086.0   667.0 68302.71752026213\n",
      "  4   322.0   407.0 83449.98220440355\n",
      "8  id xcenter ycenter    aperture_sum  \n",
      "      pix     pix          adu       \n",
      "--- ------- ------- -----------------\n",
      "  1   226.0   637.0 79374.05396568288\n",
      "  2  1354.0   739.0 101843.0431745637\n",
      "  3  1086.0   667.0 71650.92702201991\n",
      "  4   322.0   407.0 85237.11520310488\n",
      "9  id xcenter ycenter    aperture_sum   \n",
      "      pix     pix          adu        \n",
      "--- ------- ------- ------------------\n",
      "  1   226.0   637.0   80762.6633584598\n",
      "  2  1354.0   739.0 106535.61163600451\n",
      "  3  1086.0   667.0  72765.77185208756\n",
      "  4   322.0   407.0  87823.78951053957\n",
      "10  id xcenter ycenter    aperture_sum  \n",
      "      pix     pix          adu       \n",
      "--- ------- ------- -----------------\n",
      "  1   226.0   637.0 66959.34582911555\n",
      "  2  1354.0   739.0 93667.49528290497\n",
      "  3  1086.0   667.0 61216.22595373273\n",
      "  4   322.0   407.0  67718.1745144826\n",
      "11  id xcenter ycenter    aperture_sum  \n",
      "      pix     pix          adu       \n",
      "--- ------- ------- -----------------\n",
      "  1   226.0   637.0 71887.12618082883\n",
      "  2  1354.0   739.0 93564.16189037102\n",
      "  3  1086.0   667.0 63622.06015240758\n",
      "  4   322.0   407.0 80182.21246577344\n",
      "12  id xcenter ycenter    aperture_sum   \n",
      "      pix     pix          adu        \n",
      "--- ------- ------- ------------------\n",
      "  1   226.0   637.0  74043.87361310892\n",
      "  2  1354.0   739.0 100097.84388741208\n",
      "  3  1086.0   667.0  68577.56485733893\n",
      "  4   322.0   407.0   79921.7010932657\n",
      "13  id xcenter ycenter    aperture_sum   \n",
      "      pix     pix          adu        \n",
      "--- ------- ------- ------------------\n",
      "  1   226.0   637.0   80691.7202363899\n",
      "  2  1354.0   739.0 101619.81049057233\n",
      "  3  1086.0   667.0  71846.77211824374\n",
      "  4   322.0   407.0  80363.90208593124\n",
      "14  id xcenter ycenter    aperture_sum   \n",
      "      pix     pix          adu        \n",
      "--- ------- ------- ------------------\n",
      "  1   226.0   637.0  81001.44312975329\n",
      "  2  1354.0   739.0 105742.77772964415\n",
      "  3  1086.0   667.0  73571.72180442985\n",
      "  4   322.0   407.0   87944.0437057424\n",
      "15  id xcenter ycenter    aperture_sum   \n",
      "      pix     pix          adu        \n",
      "--- ------- ------- ------------------\n",
      "  1   226.0   637.0  78333.69278391066\n",
      "  2  1354.0   739.0 103951.61884703723\n",
      "  3  1086.0   667.0  75453.22621618811\n",
      "  4   322.0   407.0  93929.22831092437\n",
      "16  id xcenter ycenter    aperture_sum   \n",
      "      pix     pix          adu        \n",
      "--- ------- ------- ------------------\n",
      "  1   226.0   637.0  79138.28624928766\n",
      "  2  1354.0   739.0 107417.19455418333\n",
      "  3  1086.0   667.0  76111.42168169428\n",
      "  4   322.0   407.0  84428.33729158588\n",
      "17  id xcenter ycenter    aperture_sum   \n",
      "      pix     pix          adu        \n",
      "--- ------- ------- ------------------\n",
      "  1   226.0   637.0  79099.61828715426\n",
      "  2  1354.0   739.0 107517.92435703016\n",
      "  3  1086.0   667.0  79603.12631411629\n",
      "  4   322.0   407.0  89705.93253309562\n",
      "18  id xcenter ycenter    aperture_sum   \n",
      "      pix     pix          adu        \n",
      "--- ------- ------- ------------------\n",
      "  1   226.0   637.0  79187.74985396066\n",
      "  2  1354.0   739.0 110295.05552484268\n",
      "  3  1086.0   667.0  76979.19491800279\n",
      "  4   322.0   407.0  81588.48774156968\n",
      "19  id xcenter ycenter    aperture_sum   \n",
      "      pix     pix          adu        \n",
      "--- ------- ------- ------------------\n",
      "  1   226.0   637.0  77932.50946857363\n",
      "  2  1354.0   739.0 107442.80202347606\n",
      "  3  1086.0   667.0  74385.70109175597\n",
      "  4   322.0   407.0  88920.05069091967\n"
     ]
    }
   ],
   "source": [
    "phot_table=[] #list of photometry\n",
    "#for each image in scim\n",
    "for idx, thisimage in enumerate(scim):\n",
    "    phot_table.extend([aperture_photometry(thisimage, apertures)]) #add apertures of allthese stars in all images\n",
    "    print(idx, phot_table[idx]) #print by image number then apertures\n"
   ]
  },
  {
   "cell_type": "code",
   "execution_count": 147,
   "id": "1f938edb",
   "metadata": {},
   "outputs": [
    {
     "name": "stdout",
     "output_type": "stream",
     "text": [
      "0\n",
      "[1. 1. 1. 1.]\n",
      "1.0\n",
      "1\n",
      "[1.0141837  1.02542048 0.9656195  0.97292554]\n",
      "0.9935546170497459\n",
      "2\n",
      "[0.97851197 1.00738677 1.00525484 1.06178599]\n",
      "1.0063208070823328\n",
      "3\n",
      "[0.97428126 0.99939274 0.94278916 1.05267138]\n",
      "0.986837001605532\n",
      "4\n",
      "[ 1.1137864  -0.28679611  1.53400201  1.2577951 ]\n",
      "1.185790752780635\n",
      "5\n",
      "[1.51034953 1.343454   1.40471534 1.61566041]\n",
      "1.4575324347826852\n",
      "6\n",
      "[1.33382817 1.11801107 1.25292107 1.31420421]\n",
      "1.2835626403598936\n",
      "7\n",
      "[1.20984201 1.19717451 1.11985504 1.20165476]\n",
      "1.1994146350813941\n",
      "8\n",
      "[1.13787194 1.06467479 1.06752481 1.17646014]\n",
      "1.1026983748823547\n",
      "9\n",
      "[1.1183077  1.01777912 1.05116926 1.14180986]\n",
      "1.0847384807348295\n",
      "10\n",
      "[1.34884097 1.15760244 1.24949131 1.48081471]\n",
      "1.2991661374533985\n",
      "11\n",
      "[1.25637946 1.15888091 1.20224246 1.25062736]\n",
      "1.2264349111203139\n",
      "12\n",
      "[1.21978368 1.08323733 1.11536685 1.25470388]\n",
      "1.1675752640203905\n",
      "13\n",
      "[1.11929091 1.06701361 1.06461487 1.2477999 ]\n",
      "1.093152258378923\n",
      "14\n",
      "[1.11501111 1.02541018 1.0396541  1.14024855]\n",
      "1.0773326036302904\n",
      "15\n",
      "[1.15298418 1.04307871 1.01372925 1.06759174]\n",
      "1.0553352285553195\n",
      "16\n",
      "[1.14126187 1.00942611 1.00496273 1.18772999]\n",
      "1.0753439909568205\n",
      "17\n",
      "[1.14181978 1.00848041 0.96088113 1.11785325]\n",
      "1.0631668341691232\n",
      "18\n",
      "[1.140549   0.98308778 0.99363396 1.2290713 ]\n",
      "1.067091478807924\n",
      "19\n",
      "[1.15891955 1.00918553 1.02827749 1.12773292]\n",
      "1.078005208181628\n"
     ]
    }
   ],
   "source": [
    "for idx, thisimage in enumerate(scim):\n",
    "    print(idx)\n",
    "    print(phot_table[0]['aperture_sum']/phot_table[idx]['aperture_sum'])\n",
    "    print(np.ma.median(phot_table[0]['aperture_sum']/phot_table[idx]['aperture_sum']))\n"
   ]
  },
  {
   "cell_type": "code",
   "execution_count": 149,
   "id": "6941360b",
   "metadata": {},
   "outputs": [
    {
     "name": "stdout",
     "output_type": "stream",
     "text": [
      "1.0\n",
      "0.9935546170497459\n",
      "1.0063208070823328\n",
      "0.986837001605532\n",
      "1.185790752780635\n",
      "1.4575324347826852\n",
      "1.2835626403598936\n",
      "1.1994146350813941\n",
      "1.1026983748823547\n",
      "1.0847384807348295\n",
      "1.2991661374533985\n",
      "1.2264349111203139\n",
      "1.1675752640203905\n",
      "1.093152258378923\n",
      "1.0773326036302904\n",
      "1.0553352285553195\n",
      "1.0753439909568205\n",
      "1.0631668341691232\n",
      "1.067091478807924\n",
      "1.078005208181628\n"
     ]
    }
   ],
   "source": [
    "#for each image find the median aperture_sum ratio\n",
    "for idx, thisimage in enumerate(scim):\n",
    "    m = np.ma.median(phot_table[0]['aperture_sum'] / phot_table[idx]['aperture_sum'])\n",
    "    print(m)\n",
    "    #scim[idx] = scim[idx].multiply(m * u.adu)\n",
    "#combine the images using the average method\n",
    "sci_average = ccdproc.combine(scim, method = 'average',dtype = np.float32, minmax_clip = True, minmax_clip_min = -500)\n",
    "#create a new file for the combined image\n",
    "sci_average.write(\"NGC_1851_R_average.fits\")\n",
    "#combine using the median combine method\n",
    "sci_median = ccdproc.combine(scim, method = 'median',dtype = np.float32,minmax_clip = True, minmax_clip_min = -500)\n",
    "#create a new file for the median combined image\n",
    "sci_median.write(\"NGC_1851_R_median.fits\")\n",
    "\n",
    "sci_minmax = ccdproc.combine(scim, method = 'average', dtype = np.float32, minmax_clip = True,minmax_clip_min = -500, clip_extrema = (3,3))\n",
    "#create a new file for the median combined image\n",
    "sci_minmax.write(\"NGC_1851_R_minmax.fits\")\n"
   ]
  }
 ],
 "metadata": {
  "kernelspec": {
   "display_name": "Python 3 (ipykernel)",
   "language": "python",
   "name": "python3"
  },
  "language_info": {
   "codemirror_mode": {
    "name": "ipython",
    "version": 3
   },
   "file_extension": ".py",
   "mimetype": "text/x-python",
   "name": "python",
   "nbconvert_exporter": "python",
   "pygments_lexer": "ipython3",
   "version": "3.9.7"
  }
 },
 "nbformat": 4,
 "nbformat_minor": 5
}
